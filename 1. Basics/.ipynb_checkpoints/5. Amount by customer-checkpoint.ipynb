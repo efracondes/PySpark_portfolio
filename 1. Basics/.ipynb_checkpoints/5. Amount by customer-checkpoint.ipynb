{
 "cells": [
  {
   "cell_type": "markdown",
   "metadata": {},
   "source": [
    "# Amount of Money Spent per Costumer\n",
    "\n",
    "Our goal in this notebook is to calculate the total amount of money spent per person on a fake store. The data for this example can be found at ../datasets/customer_orders.csv, and it simulates the sales data from a fictitious store. The data fields are, in order, the following: customer id, item id and the amount spent on that item.\n",
    "\n",
    "First, we call the following libraries and tell the computer that we are going to run our script on our local system."
   ]
  },
  {
   "cell_type": "code",
   "execution_count": 1,
   "metadata": {},
   "outputs": [],
   "source": [
    "import pyspark\n",
    "from pyspark import SparkConf, SparkContext\n",
    "\n",
    "conf = SparkConf().setMaster('local').setAppName('amount_per_customer')\n",
    "sc = SparkContext(conf = conf)"
   ]
  },
  {
   "cell_type": "markdown",
   "metadata": {},
   "source": [
    "Let's load the data and display a little sample of it"
   ]
  },
  {
   "cell_type": "code",
   "execution_count": 2,
   "metadata": {},
   "outputs": [
    {
     "name": "stdout",
     "output_type": "stream",
     "text": [
      "44,8602,37.19\n",
      "35,5368,65.89\n",
      "2,3391,40.64\n",
      "47,6694,14.98\n",
      "29,680,13.08\n",
      "91,8900,24.59\n",
      "70,3959,68.68\n",
      "85,1733,28.53\n",
      "53,9900,83.55\n",
      "14,1505,4.32\n"
     ]
    }
   ],
   "source": [
    "raw_data = sc.textFile('../datasets/customer_orders.csv')\n",
    "\n",
    "for row in raw_data.take(10):\n",
    "    print(row)"
   ]
  },
  {
   "cell_type": "markdown",
   "metadata": {},
   "source": [
    "We define the next function to split the rows of the data and to keep only the customer id and the amount spent fields. It transforms each row into a key/value pair, where the key and value are, respectively, the customer id and the amount spent. "
   ]
  },
  {
   "cell_type": "code",
   "execution_count": 3,
   "metadata": {},
   "outputs": [],
   "source": [
    "def split_data(row):\n",
    "    splitted_row = row.split(',')\n",
    "    customer_id = int(splitted_row[0])\n",
    "    amount_spent = float(splitted_row[2])\n",
    "\n",
    "    return (customer_id, amount_spent)"
   ]
  },
  {
   "cell_type": "markdown",
   "metadata": {},
   "source": [
    "Now, we apply the function defined above to the raw_data RDD and display its first ten elements"
   ]
  },
  {
   "cell_type": "code",
   "execution_count": 4,
   "metadata": {},
   "outputs": [
    {
     "name": "stdout",
     "output_type": "stream",
     "text": [
      "(44, 37.19)\n",
      "(35, 65.89)\n",
      "(2, 40.64)\n",
      "(47, 14.98)\n",
      "(29, 13.08)\n",
      "(91, 24.59)\n",
      "(70, 68.68)\n",
      "(85, 28.53)\n",
      "(53, 83.55)\n",
      "(14, 4.32)\n"
     ]
    }
   ],
   "source": [
    "data = raw_data.map(split_data)\n",
    "\n",
    "for row in data.take(10):\n",
    "    print(row)"
   ]
  },
  {
   "cell_type": "markdown",
   "metadata": {},
   "source": [
    "In the next cell, we use .reduceByKey to calculate the total amount spent per customer."
   ]
  },
  {
   "cell_type": "code",
   "execution_count": 5,
   "metadata": {},
   "outputs": [
    {
     "name": "stdout",
     "output_type": "stream",
     "text": [
      "(44, 4756.8899999999985)\n",
      "(35, 5155.419999999999)\n",
      "(2, 5994.59)\n",
      "(47, 4316.299999999999)\n",
      "(29, 5032.529999999999)\n",
      "(91, 4642.259999999999)\n",
      "(70, 5368.249999999999)\n",
      "(85, 5503.43)\n",
      "(53, 4945.299999999999)\n",
      "(14, 4735.030000000001)\n"
     ]
    }
   ],
   "source": [
    "total_amount = data.reduceByKey(lambda x, y: x + y)\n",
    "\n",
    "for row in total_amount.take(10):\n",
    "    print(row)"
   ]
  },
  {
   "cell_type": "markdown",
   "metadata": {},
   "source": [
    "Finally, we would like to order our results based on the total amount spent, in order to achieve this, we need to replace the keys for the values and vice versa, in this way, when we call the .sortByKey transformation our results will be sorted by the total amount spent. Let's do this and print the results."
   ]
  },
  {
   "cell_type": "code",
   "execution_count": 6,
   "metadata": {},
   "outputs": [
    {
     "name": "stdout",
     "output_type": "stream",
     "text": [
      "Customer Id: 68, Amount Spent: 6375.45\n",
      "Customer Id: 73, Amount Spent: 6206.2\n",
      "Customer Id: 39, Amount Spent: 6193.11\n",
      "Customer Id: 54, Amount Spent: 6065.39\n",
      "Customer Id: 71, Amount Spent: 5995.66\n",
      "Customer Id: 2, Amount Spent: 5994.59\n",
      "Customer Id: 97, Amount Spent: 5977.19\n",
      "Customer Id: 46, Amount Spent: 5963.11\n",
      "Customer Id: 42, Amount Spent: 5696.84\n",
      "Customer Id: 59, Amount Spent: 5642.89\n",
      "Customer Id: 41, Amount Spent: 5637.62\n",
      "Customer Id: 0, Amount Spent: 5524.95\n",
      "Customer Id: 8, Amount Spent: 5517.24\n",
      "Customer Id: 85, Amount Spent: 5503.43\n",
      "Customer Id: 61, Amount Spent: 5497.48\n",
      "Customer Id: 32, Amount Spent: 5496.05\n",
      "Customer Id: 58, Amount Spent: 5437.73\n",
      "Customer Id: 63, Amount Spent: 5415.15\n",
      "Customer Id: 15, Amount Spent: 5413.51\n",
      "Customer Id: 6, Amount Spent: 5397.88\n"
     ]
    }
   ],
   "source": [
    "amounts_ordered = total_amount.map(lambda x: (x[1], x[0])).sortByKey(ascending=False)\n",
    "\n",
    "for customer_info in amounts_ordered.take(20):\n",
    "    customer_id = customer_info[1]\n",
    "    amount_spent = customer_info[0]\n",
    "    print('Customer Id: ' + str(customer_id) + ', Amount Spent: ' + str(round(amount_spent,2)))"
   ]
  }
 ],
 "metadata": {
  "kernelspec": {
   "display_name": "spark",
   "language": "python",
   "name": "spark"
  },
  "language_info": {
   "codemirror_mode": {
    "name": "ipython",
    "version": 3
   },
   "file_extension": ".py",
   "mimetype": "text/x-python",
   "name": "python",
   "nbconvert_exporter": "python",
   "pygments_lexer": "ipython3",
   "version": "3.7.6"
  }
 },
 "nbformat": 4,
 "nbformat_minor": 4
}
