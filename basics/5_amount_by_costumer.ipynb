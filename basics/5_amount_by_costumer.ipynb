{
 "cells": [
  {
   "cell_type": "code",
   "execution_count": 1,
   "metadata": {},
   "outputs": [],
   "source": [
    "import pyspark\n",
    "from pyspark import SparkConf, SparkContext\n",
    "\n",
    "conf = SparkConf().setMaster(\"local\").setAppName(\"num_friends_by_age\")\n",
    "sc = SparkContext(conf = conf)"
   ]
  },
  {
   "cell_type": "code",
   "execution_count": 2,
   "metadata": {},
   "outputs": [
    {
     "output_type": "stream",
     "name": "stdout",
     "text": "44,8602,37.19\n35,5368,65.89\n2,3391,40.64\n47,6694,14.98\n29,680,13.08\n91,8900,24.59\n70,3959,68.68\n85,1733,28.53\n53,9900,83.55\n14,1505,4.32\n"
    }
   ],
   "source": [
    "raw_data = sc.textFile('datasets/customer_orders.csv')\n",
    "\n",
    "for row in raw_data.take(10):\n",
    "    print(row)"
   ]
  },
  {
   "cell_type": "code",
   "execution_count": 3,
   "metadata": {},
   "outputs": [],
   "source": [
    "def split_data(row):\n",
    "    splitted_row = row.split(',')\n",
    "    customer_id = int(splitted_row[0])\n",
    "    amount_spent = float(splitted_row[2])\n",
    "\n",
    "    return (customer_id, amount_spent)"
   ]
  },
  {
   "cell_type": "code",
   "execution_count": 4,
   "metadata": {},
   "outputs": [
    {
     "output_type": "stream",
     "name": "stdout",
     "text": "(44, 37.19)\n(35, 65.89)\n(2, 40.64)\n(47, 14.98)\n(29, 13.08)\n(91, 24.59)\n(70, 68.68)\n(85, 28.53)\n(53, 83.55)\n(14, 4.32)\n"
    }
   ],
   "source": [
    "data = raw_data.map(split_data)\n",
    "\n",
    "for row in data.take(10):\n",
    "    print(row)"
   ]
  },
  {
   "cell_type": "code",
   "execution_count": 5,
   "metadata": {},
   "outputs": [
    {
     "output_type": "stream",
     "name": "stdout",
     "text": "(44, 4756.8899999999985)\n(35, 5155.419999999999)\n(2, 5994.59)\n(47, 4316.299999999999)\n(29, 5032.529999999999)\n(91, 4642.259999999999)\n(70, 5368.249999999999)\n(85, 5503.43)\n(53, 4945.299999999999)\n(14, 4735.030000000001)\n"
    }
   ],
   "source": [
    "total_amount = data.reduceByKey(lambda x, y: x + y)\n",
    "\n",
    "for row in total_amount.take(10):\n",
    "    print(row)"
   ]
  },
  {
   "cell_type": "code",
   "execution_count": 6,
   "metadata": {},
   "outputs": [
    {
     "output_type": "stream",
     "name": "stdout",
     "text": "Customer Id: 68, Amount Spent: 6375.45\nCustomer Id: 73, Amount Spent: 6206.2\nCustomer Id: 39, Amount Spent: 6193.11\nCustomer Id: 54, Amount Spent: 6065.39\nCustomer Id: 71, Amount Spent: 5995.66\nCustomer Id: 2, Amount Spent: 5994.59\nCustomer Id: 97, Amount Spent: 5977.19\nCustomer Id: 46, Amount Spent: 5963.11\nCustomer Id: 42, Amount Spent: 5696.84\nCustomer Id: 59, Amount Spent: 5642.89\nCustomer Id: 41, Amount Spent: 5637.62\nCustomer Id: 0, Amount Spent: 5524.95\nCustomer Id: 8, Amount Spent: 5517.24\nCustomer Id: 85, Amount Spent: 5503.43\nCustomer Id: 61, Amount Spent: 5497.48\nCustomer Id: 32, Amount Spent: 5496.05\nCustomer Id: 58, Amount Spent: 5437.73\nCustomer Id: 63, Amount Spent: 5415.15\nCustomer Id: 15, Amount Spent: 5413.51\nCustomer Id: 6, Amount Spent: 5397.88\n"
    }
   ],
   "source": [
    "amounts_ordered = total_amount.map(lambda x: (x[1], x[0])).sortByKey(ascending=False)\n",
    "\n",
    "for customer_info in amounts_ordered.take(20):\n",
    "    customer_id = customer_info[1]\n",
    "    amount_spent = customer_info[0]\n",
    "    print('Customer Id: ' + str(customer_id) + ', Amount Spent: ' + str(round(amount_spent,2)))"
   ]
  }
 ],
 "metadata": {
  "language_info": {
   "codemirror_mode": {
    "name": "ipython",
    "version": 3
   },
   "file_extension": ".py",
   "mimetype": "text/x-python",
   "name": "python",
   "nbconvert_exporter": "python",
   "pygments_lexer": "ipython3",
   "version": "3.7.6-final"
  },
  "orig_nbformat": 2,
  "kernelspec": {
   "name": "spark",
   "display_name": "spark"
  }
 },
 "nbformat": 4,
 "nbformat_minor": 2
}