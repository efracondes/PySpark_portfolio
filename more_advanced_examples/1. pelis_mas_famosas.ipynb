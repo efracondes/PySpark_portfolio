{
 "cells": [
  {
   "cell_type": "markdown",
   "metadata": {},
   "source": [
    "# Most Popular movies\n",
    "\n",
    "wich movie appears most frequenly in the entire dataset "
   ]
  },
  {
   "cell_type": "code",
   "execution_count": 2,
   "metadata": {},
   "outputs": [],
   "source": [
    "from pyspark import SparkConf, SparkContext\n",
    "\n",
    "conf = SparkConf().setMaster('local').setAppName('most_pop_movie')\n",
    "sc = SparkContext(conf = conf)"
   ]
  },
  {
   "cell_type": "code",
   "execution_count": 5,
   "metadata": {},
   "outputs": [
    {
     "output_type": "stream",
     "name": "stdout",
     "text": "196\t242\t3\t881250949\n186\t302\t3\t891717742\n22\t377\t1\t878887116\n244\t51\t2\t880606923\n166\t346\t1\t886397596\n298\t474\t4\t884182806\n115\t265\t2\t881171488\n253\t465\t5\t891628467\n305\t451\t3\t886324817\n6\t86\t3\t883603013\n"
    }
   ],
   "source": [
    "raw_data = sc.textFile('../datasets/ml-100k/u.data')\n",
    "\n",
    "for row in raw_data.take(10):\n",
    "    print(row)"
   ]
  },
  {
   "cell_type": "code",
   "execution_count": 23,
   "metadata": {},
   "outputs": [],
   "source": [
    "movie_names = {}\n",
    "\n",
    "with open('../datasets/ml-100k/u.ITEM', encoding = \"ISO-8859-1\") as file:\n",
    "    for row in file:\n",
    "        fields = row.split('|') \n",
    "        movie_names[int(fields[0])] =  fields[1]\n",
    "\n",
    "movie_names = sc.broadcast(movie_names)"
   ]
  },
  {
   "cell_type": "code",
   "execution_count": 28,
   "metadata": {},
   "outputs": [],
   "source": [
    "def get_movie(row):\n",
    "    fields = row.split()\n",
    "    movie_id = int(fields[1])\n",
    "    return (movie_id, 1)"
   ]
  },
  {
   "cell_type": "code",
   "execution_count": 25,
   "metadata": {},
   "outputs": [
    {
     "output_type": "stream",
     "name": "stdout",
     "text": "(242, 117)\n(302, 297)\n(377, 13)\n(51, 81)\n(346, 126)\n(474, 194)\n(265, 227)\n(465, 85)\n(451, 170)\n(86, 150)\n"
    }
   ],
   "source": [
    "movies_popularity = raw_data.map(get_movie).reduceByKey(lambda x, y: x + y) \n",
    "\n",
    "for row in movies_popularity.take(10):\n",
    "    print(row)"
   ]
  },
  {
   "cell_type": "code",
   "execution_count": 37,
   "metadata": {},
   "outputs": [
    {
     "output_type": "stream",
     "name": "stdout",
     "text": "1.Star Wars (1977) was watched 583 times.\n2.Contact (1997) was watched 509 times.\n3.Fargo (1996) was watched 508 times.\n4.Return of the Jedi (1983) was watched 507 times.\n5.Liar Liar (1997) was watched 485 times.\n6.English Patient, The (1996) was watched 481 times.\n7.Scream (1996) was watched 478 times.\n8.Toy Story (1995) was watched 452 times.\n9.Air Force One (1997) was watched 431 times.\n10.Independence Day (ID4) (1996) was watched 429 times.\n11.Raiders of the Lost Ark (1981) was watched 420 times.\n12.Godfather, The (1972) was watched 413 times.\n13.Pulp Fiction (1994) was watched 394 times.\n14.Twelve Monkeys (1995) was watched 392 times.\n15.Silence of the Lambs, The (1991) was watched 390 times.\n16.Jerry Maguire (1996) was watched 384 times.\n17.Rock, The (1996) was watched 378 times.\n18.Empire Strikes Back, The (1980) was watched 367 times.\n19.Star Trek: First Contact (1996) was watched 365 times.\n20.Back to the Future (1985) was watched 350 times.\n"
    }
   ],
   "source": [
    "movies_pop_names = movies_popularity.map(lambda row: (row[1], movie_names.value[row[0]])).sortByKey(ascending= False)\n",
    "counter = 1\n",
    "\n",
    "for row in movies_pop_names.take(20):\n",
    "    print(str(counter) + '.' + str(row[1]) + ' was watched ' + str(row[0]) + ' times.') \n",
    "    counter = counter + 1"
   ]
  },
  {
   "cell_type": "code",
   "execution_count": null,
   "metadata": {},
   "outputs": [],
   "source": []
  }
 ],
 "metadata": {
  "language_info": {
   "codemirror_mode": {
    "name": "ipython",
    "version": 3
   },
   "file_extension": ".py",
   "mimetype": "text/x-python",
   "name": "python",
   "nbconvert_exporter": "python",
   "pygments_lexer": "ipython3",
   "version": "3.7.6-final"
  },
  "orig_nbformat": 2,
  "kernelspec": {
   "name": "spark",
   "display_name": "spark"
  }
 },
 "nbformat": 4,
 "nbformat_minor": 2
}